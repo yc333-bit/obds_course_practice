{
 "cells": [
  {
   "cell_type": "code",
   "execution_count": 1,
   "id": "797c4b89-c901-4fae-adcf-6c61752cc224",
   "metadata": {
    "tags": []
   },
   "outputs": [
    {
     "name": "stdout",
     "output_type": "stream",
     "text": [
      "1\n",
      "2\n",
      "3\n",
      "4\n",
      "5\n",
      "6\n",
      "7\n",
      "8\n",
      "9\n",
      "10\n",
      "11\n"
     ]
    }
   ],
   "source": [
    "for i in range(1,12):\n",
    "    print (i)"
   ]
  },
  {
   "cell_type": "code",
   "execution_count": 2,
   "id": "8dd13101-fe4c-4847-9fda-a87701641a05",
   "metadata": {
    "tags": []
   },
   "outputs": [
    {
     "name": "stdin",
     "output_type": "stream",
     "text": [
      "Enter an integer: 2\n"
     ]
    },
    {
     "name": "stdout",
     "output_type": "stream",
     "text": [
      "No, it is higher\n"
     ]
    },
    {
     "name": "stdin",
     "output_type": "stream",
     "text": [
      "Enter an integer: 8\n"
     ]
    },
    {
     "name": "stdout",
     "output_type": "stream",
     "text": [
      "No, it is higher\n"
     ]
    },
    {
     "name": "stdin",
     "output_type": "stream",
     "text": [
      "Enter an integer: 0\n"
     ]
    },
    {
     "name": "stdout",
     "output_type": "stream",
     "text": [
      "No, it is higher\n"
     ]
    },
    {
     "name": "stdin",
     "output_type": "stream",
     "text": [
      "Enter an integer: 14\n"
     ]
    },
    {
     "name": "stdout",
     "output_type": "stream",
     "text": [
      "No, it is lower\n"
     ]
    },
    {
     "name": "stdin",
     "output_type": "stream",
     "text": [
      "Enter an integer: 10\n"
     ]
    },
    {
     "name": "stdout",
     "output_type": "stream",
     "text": [
      "Welldone!\n"
     ]
    }
   ],
   "source": [
    "running = True\n",
    "number = 10\n",
    "while running:\n",
    "    guess = int (input ('Enter an integer:'))\n",
    "    if guess == number:\n",
    "        print ('Welldone!')\n",
    "        running = False\n",
    "    elif guess < number:\n",
    "        print('No, it is higher')\n",
    "    else:\n",
    "        print('No, it is lower')"
   ]
  },
  {
   "cell_type": "code",
   "execution_count": 3,
   "id": "6ea85c1f-ac12-44f4-94dc-ec8697fe53a3",
   "metadata": {
    "tags": []
   },
   "outputs": [
    {
     "name": "stdout",
     "output_type": "stream",
     "text": [
      "1\n",
      "2\n",
      "3\n",
      "4\n",
      "5\n",
      "6\n",
      "7\n",
      "8\n",
      "9\n",
      "10\n"
     ]
    }
   ],
   "source": [
    "for i in range(1,11):\n",
    "    print(i)"
   ]
  },
  {
   "cell_type": "code",
   "execution_count": 3,
   "id": "1830f65f-1dec-463a-b1a0-72c36931d3a3",
   "metadata": {
    "tags": []
   },
   "outputs": [
    {
     "name": "stdout",
     "output_type": "stream",
     "text": [
      "1\n",
      "2\n",
      "3\n",
      "4\n",
      "5\n",
      "6\n",
      "7\n",
      "8\n",
      "9\n",
      "10\n"
     ]
    }
   ],
   "source": [
    "for i in range(1,11):\n",
    "    print(i)"
   ]
  },
  {
   "cell_type": "code",
   "execution_count": 4,
   "id": "8f5c1cb4-fe09-4149-b93c-b4d3e2b8b32e",
   "metadata": {
    "tags": []
   },
   "outputs": [
    {
     "name": "stdout",
     "output_type": "stream",
     "text": [
      "-10\n",
      "-9\n",
      "-8\n",
      "-7\n",
      "-6\n",
      "-5\n",
      "-4\n",
      "-3\n",
      "-2\n",
      "-1\n"
     ]
    }
   ],
   "source": [
    "for i in range(-10,0):\n",
    "    print(i)"
   ]
  },
  {
   "cell_type": "code",
   "execution_count": 5,
   "id": "df5a123c-62fa-4da2-a1f3-19405df05fb7",
   "metadata": {
    "tags": []
   },
   "outputs": [
    {
     "ename": "SyntaxError",
     "evalue": "expected ':' (3639018741.py, line 2)",
     "output_type": "error",
     "traceback": [
      "\u001b[0;36m  Cell \u001b[0;32mIn[5], line 2\u001b[0;36m\u001b[0m\n\u001b[0;31m    while i <= 10\u001b[0m\n\u001b[0m                 ^\u001b[0m\n\u001b[0;31mSyntaxError\u001b[0m\u001b[0;31m:\u001b[0m expected ':'\n"
     ]
    }
   ],
   "source": [
    "i = 1\n",
    "while i <= 10\n",
    "    print(i)\n",
    "    i += 1"
   ]
  },
  {
   "cell_type": "code",
   "execution_count": 6,
   "id": "3f294e4c-07dc-4cab-b119-6fac8fce3598",
   "metadata": {
    "tags": []
   },
   "outputs": [
    {
     "name": "stdout",
     "output_type": "stream",
     "text": [
      "1\n",
      "2\n",
      "3\n",
      "4\n",
      "5\n",
      "6\n",
      "7\n",
      "8\n",
      "9\n",
      "10\n"
     ]
    }
   ],
   "source": [
    "i = 1\n",
    "while i <= 10:\n",
    "    print(i)\n",
    "    i += 1"
   ]
  },
  {
   "cell_type": "code",
   "execution_count": 7,
   "id": "532e35d0-8559-4f31-b304-6494e9571bf8",
   "metadata": {
    "tags": []
   },
   "outputs": [
    {
     "name": "stdout",
     "output_type": "stream",
     "text": [
      "3\n",
      "5\n",
      "7\n",
      "9\n",
      "11\n",
      "13\n",
      "15\n",
      "17\n",
      "19\n"
     ]
    }
   ],
   "source": [
    "i = 1\n",
    "while i < 10:\n",
    "    x=i+1+i\n",
    "    print(x)\n",
    "    i += 1"
   ]
  },
  {
   "cell_type": "code",
   "execution_count": 8,
   "id": "e5f2106c-e4e2-44f2-a86d-be2663d447b3",
   "metadata": {
    "tags": []
   },
   "outputs": [
    {
     "name": "stdout",
     "output_type": "stream",
     "text": [
      "the sum of integer from 1 to 10 is: 55\n"
     ]
    }
   ],
   "source": [
    "total_sum = sum(range(1,11))\n",
    "print(\"the sum of integer from 1 to 10 is:\",total_sum)"
   ]
  },
  {
   "cell_type": "code",
   "execution_count": 24,
   "id": "a69a76b5-5118-48c2-9cee-470bdac326e5",
   "metadata": {
    "tags": []
   },
   "outputs": [
    {
     "name": "stdout",
     "output_type": "stream",
     "text": [
      "2\n",
      "3\n",
      "5\n",
      "7\n",
      "11\n",
      "13\n",
      "17\n",
      "19\n",
      "23\n",
      "29\n",
      "31\n",
      "37\n",
      "41\n",
      "43\n",
      "47\n"
     ]
    }
   ],
   "source": [
    "for num in range(1,51):\n",
    "    is_prime = True\n",
    "    if num > 1:\n",
    "        for i in range(2,num):\n",
    "            if (num % i) == 0:\n",
    "                #print(num, i, num%i)\n",
    "                is_prime = False\n",
    "        if is_prime:\n",
    "            print(num)\n",
    "\n",
    "    "
   ]
  },
  {
   "cell_type": "code",
   "execution_count": 29,
   "id": "58932f68-ee8d-4983-b6fe-e64422a57895",
   "metadata": {
    "tags": []
   },
   "outputs": [
    {
     "ename": "SyntaxError",
     "evalue": "invalid syntax (1008669676.py, line 5)",
     "output_type": "error",
     "traceback": [
      "\u001b[0;36m  Cell \u001b[0;32mIn[29], line 5\u001b[0;36m\u001b[0m\n\u001b[0;31m    retrun y\u001b[0m\n\u001b[0m           ^\u001b[0m\n\u001b[0;31mSyntaxError\u001b[0m\u001b[0;31m:\u001b[0m invalid syntax\n"
     ]
    }
   ],
   "source": [
    "def max(x,y):\n",
    "    if x > y:\n",
    "        return x\n",
    "    elif x == y:\n",
    "        retrun y\n",
    "    else:\n",
    "        print (\"x < y\")"
   ]
  },
  {
   "cell_type": "code",
   "execution_count": 31,
   "id": "09598674-c8cc-4b00-b587-4366ddd0b5e2",
   "metadata": {
    "tags": []
   },
   "outputs": [],
   "source": [
    "def complement_base(base):\n",
    "    output = ''\n",
    "    if base == 'A':\n",
    "         output = 'T'\n",
    "    elif base == 'G':\n",
    "        output = 'C'\n",
    "    elif base == 'C':\n",
    "        output = 'G'\n",
    "    elif base == 'T':\n",
    "        output = 'A'\n",
    "    else:\n",
    "        print(\"Unknown base\")\n",
    "    return output\n",
    "def complement_sequence(sequence):\n",
    "    for base in sequence:\n",
    "        complement_sequence = complement + complement_base(base)\n",
    "        if complement_sequence == complement:\n",
    "            output(complement_sequen"
   ]
  },
  {
   "cell_type": "code",
   "execution_count": 32,
   "id": "2191fca2-d4ff-45ac-b040-469257cfdb3b",
   "metadata": {
    "tags": []
   },
   "outputs": [
    {
     "name": "stdout",
     "output_type": "stream",
     "text": [
      "T\n",
      "TT\n",
      "TTT\n",
      "TTTT\n",
      "TTTTG\n",
      "TTTTGG\n",
      "TTTTGGG\n",
      "TTTTGGGC\n",
      "TTTTGGGCC\n",
      "TTTTGGGCCA\n"
     ]
    }
   ],
   "source": [
    "sequence = 'AAAACCCGGT'\n",
    "complement = ''\n",
    "for base in sequence:\n",
    "    complement = complement + complement_base(base)\n",
    "    print(complement)\n"
   ]
  },
  {
   "cell_type": "code",
   "execution_count": 33,
   "id": "48449392-5430-475a-a910-9fe016161822",
   "metadata": {
    "tags": []
   },
   "outputs": [
    {
     "name": "stdout",
     "output_type": "stream",
     "text": [
      "Reverse Complement:\n",
      "GGGCCCGA\n"
     ]
    }
   ],
   "source": [
    "def complement(seq):\n",
    "    complement = {'A': 'T', 'C': 'G', 'G': 'C', 'T': 'A'}\n",
    "    bases = [complement[base] for base in seq]\n",
    "    return ''.join(bases)\n",
    "\n",
    "def reverse_complement(s):\n",
    "    return complement(s[::-1])\n",
    "\n",
    "# Test the function\n",
    "print(\"Reverse Complement:\")\n",
    "print(reverse_complement(\"TCGGGCCC\"))\n"
   ]
  },
  {
   "cell_type": "code",
   "execution_count": 30,
   "id": "36d76add-1dd8-4392-b2f7-225f45aa8e73",
   "metadata": {
    "tags": []
   },
   "outputs": [
    {
     "name": "stdout",
     "output_type": "stream",
     "text": [
      "T\n",
      "TT\n",
      "TTT\n",
      "TTTT\n",
      "TTTTG\n",
      "TTTTGG\n",
      "TTTTGGG\n",
      "TTTTGGGC\n",
      "TTTTGGGCC\n",
      "TTTTGGGCCA\n"
     ]
    }
   ],
   "source": [
    "def complement_base(base):\n",
    "    output = ''\n",
    "    if base == 'A':\n",
    "        output = 'T'\n",
    "    elif base == 'C':\n",
    "        output = 'G'\n",
    "    elif base == 'G':\n",
    "        output = 'C'\n",
    "    elif base == 'T':\n",
    "        output = 'A'\n",
    "    else:\n",
    "        print(\"Unknown base\")\n",
    "    return output\n",
    "sequence = 'AAAACCCGGT'\n",
    "complement = ''\n",
    "for base in sequence:\n",
    "    complement = complement + complement_base(base)\n",
    "    print (complement)"
   ]
  },
  {
   "cell_type": "code",
   "execution_count": 37,
   "id": "b752c35f-1b20-49a6-b39a-7be9b5d884b9",
   "metadata": {
    "tags": []
   },
   "outputs": [
    {
     "name": "stdout",
     "output_type": "stream",
     "text": [
      "AGCCCGGG\n"
     ]
    }
   ],
   "source": [
    "def complement(seq):\n",
    "    complement = {'A': 'T', 'C': 'G', 'G': 'C', 'T': 'A'}\n",
    "    bases = [complement[base] for base in seq]\n",
    "    return ''.join(bases)\n",
    "print(complement(\"TCGGGCCC\"))"
   ]
  },
  {
   "cell_type": "code",
   "execution_count": 38,
   "id": "0f9fd35d-1b70-48aa-90bf-eff8de1432b5",
   "metadata": {
    "tags": []
   },
   "outputs": [],
   "source": [
    "def reverse_complement(s):\n",
    "    return complement(s[::-1])"
   ]
  },
  {
   "cell_type": "code",
   "execution_count": null,
   "id": "56cc816c-b72a-4f98-adeb-4bbb00c0ad6d",
   "metadata": {},
   "outputs": [],
   "source": []
  },
  {
   "cell_type": "code",
   "execution_count": 39,
   "id": "36b243ab-e941-4d03-a020-8c03c919e9ef",
   "metadata": {
    "tags": []
   },
   "outputs": [
    {
     "name": "stdout",
     "output_type": "stream",
     "text": [
      "Reverse Complement:\n",
      "GGGCCCGA\n"
     ]
    }
   ],
   "source": [
    "print(\"Reverse Complement:\")\n",
    "print(reverse_complement(\"TCGGGCCC\"))"
   ]
  },
  {
   "cell_type": "code",
   "execution_count": 41,
   "id": "18a82924-c9ed-4286-9221-708acabc3ba3",
   "metadata": {
    "tags": []
   },
   "outputs": [
    {
     "name": "stdout",
     "output_type": "stream",
     "text": [
      "Reverse string:\n",
      "CCCGGGCT\n"
     ]
    }
   ],
   "source": [
    "def reverse(s):\n",
    "    return s[::-1]\n",
    "print(\"Reverse string:\")\n",
    "print(reverse(\"TCGGGCCC\"))"
   ]
  },
  {
   "cell_type": "code",
   "execution_count": 45,
   "id": "e15ca5c5-ad43-4162-84a4-14fd26d509ef",
   "metadata": {
    "tags": []
   },
   "outputs": [
    {
     "name": "stdout",
     "output_type": "stream",
     "text": [
      "CCCCGGGCT\n"
     ]
    }
   ],
   "source": [
    "seq = \"TCGGGCCCC\"\n",
    "reverse_string = seq[::-1]\n",
    "print(reverse_string)"
   ]
  },
  {
   "cell_type": "code",
   "execution_count": 46,
   "id": "11ee9fb4-e93f-4ecf-bf10-c1d2332120f5",
   "metadata": {
    "tags": []
   },
   "outputs": [
    {
     "name": "stdout",
     "output_type": "stream",
     "text": [
      "['Yi', 'Muyang', 'Oliver', 'Aleema', 'Yao', 'Gennaro', 'Sinibaldo']\n"
     ]
    }
   ],
   "source": [
    "participants_list=['Yi','Muyang','Oliver','Aleema','Yao','Gennaro','Sinibaldo']\n",
    "print(participants_list)"
   ]
  },
  {
   "cell_type": "code",
   "execution_count": 47,
   "id": "009c365f-cdf1-4f4d-8181-ad9b5c119b81",
   "metadata": {
    "tags": []
   },
   "outputs": [],
   "source": [
    "participant_2 = participants_list\n",
    "participant_3 = participants_list.copy"
   ]
  },
  {
   "cell_type": "code",
   "execution_count": 50,
   "id": "5abdd87e-1892-47c4-b247-5eaa2a78c256",
   "metadata": {
    "tags": []
   },
   "outputs": [
    {
     "name": "stdout",
     "output_type": "stream",
     "text": [
      "My list is now: ['Yi', 'Muyang', 'Oliver', 'Aleema', 'Yao', 'Gennaro', 'Sinibaldo', 'Kevin', 'David']\n"
     ]
    }
   ],
   "source": [
    "participants_list.append('Kevin')\n",
    "participants_list.append('David')\n",
    "print('My list is now:',participants_list)"
   ]
  },
  {
   "cell_type": "code",
   "execution_count": 51,
   "id": "e82eea85-e96b-4443-a552-e97e81e85982",
   "metadata": {
    "tags": []
   },
   "outputs": [
    {
     "name": "stdout",
     "output_type": "stream",
     "text": [
      "Copy_2 is now: ['Yi', 'Muyang', 'Oliver', 'Aleema', 'Yao', 'Gennaro', 'Sinibaldo', 'Kevin', 'David']\n"
     ]
    }
   ],
   "source": [
    "print('Copy_2 is now:',participant_2)"
   ]
  },
  {
   "cell_type": "code",
   "execution_count": 52,
   "id": "3c1c572c-6ab2-45bb-a383-76feed2c1905",
   "metadata": {
    "tags": []
   },
   "outputs": [
    {
     "name": "stdout",
     "output_type": "stream",
     "text": [
      "Copy_3 is now: <built-in method copy of list object at 0x7f9aa8cf3dc0>\n"
     ]
    }
   ],
   "source": [
    "print('Copy_3 is now:',participant_3)"
   ]
  },
  {
   "cell_type": "code",
   "execution_count": 54,
   "id": "4eecc59e-a722-4c77-8e3a-8208487323ec",
   "metadata": {
    "tags": []
   },
   "outputs": [],
   "source": [
    "participants_list.sort()"
   ]
  },
  {
   "cell_type": "code",
   "execution_count": 55,
   "id": "23766d22-af8f-43d9-8a15-735020bdb661",
   "metadata": {
    "tags": []
   },
   "outputs": [
    {
     "name": "stdout",
     "output_type": "stream",
     "text": [
      "sorted list is: ['Aleema', 'David', 'Gennaro', 'Kevin', 'Muyang', 'Oliver', 'Sinibaldo', 'Yao', 'Yi']\n"
     ]
    }
   ],
   "source": [
    "print('sorted list is:',participants_list)"
   ]
  },
  {
   "cell_type": "code",
   "execution_count": 60,
   "id": "7fc5c639-9c85-4a1c-a559-f6bac684c3c7",
   "metadata": {
    "tags": []
   },
   "outputs": [
    {
     "name": "stdout",
     "output_type": "stream",
     "text": [
      "Gennaro\n"
     ]
    }
   ],
   "source": [
    "print(participants_list[2])"
   ]
  },
  {
   "cell_type": "code",
   "execution_count": 62,
   "id": "aa7e0834-038b-4e13-8676-6a029d411ffa",
   "metadata": {
    "tags": []
   },
   "outputs": [
    {
     "name": "stdout",
     "output_type": "stream",
     "text": [
      "Muyang\n"
     ]
    }
   ],
   "source": [
    "print(participants_list[4])"
   ]
  },
  {
   "cell_type": "code",
   "execution_count": 65,
   "id": "8a7ace8c-6226-470a-8734-d81f719ed795",
   "metadata": {
    "tags": []
   },
   "outputs": [
    {
     "name": "stdout",
     "output_type": "stream",
     "text": [
      "Ge\n"
     ]
    }
   ],
   "source": [
    "third_val = participants_list[2]\n",
    "first_two_lettres = third_val[:2]\n",
    "print(first_two_lettres)"
   ]
  },
  {
   "cell_type": "code",
   "execution_count": 81,
   "id": "6dc49e3e-9db3-4e9a-a2b5-7670f7a96117",
   "metadata": {
    "tags": []
   },
   "outputs": [
    {
     "name": "stdout",
     "output_type": "stream",
     "text": [
      "{'Aleema': 'trainee', 'David': 'trainer', 'Gennaro': 'trainee', 'Kevin': 'trainer', 'Muyang': 'trainee', 'Oliver': 'trainee', 'Sinibaldo': 'trainee', 'Yao': 'trainee', 'Yi': 'trainee'}\n",
      "Aleema\n",
      "Gennaro\n",
      "Muyang\n",
      "Oliver\n",
      "Sinibaldo\n",
      "Yao\n",
      "Yi\n"
     ]
    }
   ],
   "source": [
    "role = ['trainee','trainer','trainee','trainer','trainee','trainee','trainee','trainee','trainee']\n",
    "part_dic = {}\n",
    "for name, role in zip(participants_list, role):\n",
    "    part_dic[name] = role\n",
    "print(part_dic)\n",
    "for name, role in part_dic.items():\n",
    "    if role == 'trainee':\n",
    "        print(name)"
   ]
  },
  {
   "cell_type": "code",
   "execution_count": 82,
   "id": "f5e541cd-343e-4a8e-b91f-02c7ca124a62",
   "metadata": {
    "tags": []
   },
   "outputs": [
    {
     "name": "stdout",
     "output_type": "stream",
     "text": [
      "Aleema\n",
      "David\n",
      "Gennaro\n",
      "Kevin\n",
      "Muyang\n",
      "Oliver\n",
      "Sinibaldo\n",
      "Yao\n",
      "Yi\n"
     ]
    }
   ],
   "source": [
    "for name in part_dic.keys():\n",
    "    print(name)"
   ]
  },
  {
   "cell_type": "code",
   "execution_count": 84,
   "id": "b4bb55b1-ce1b-423b-bb08-87e807f65341",
   "metadata": {
    "tags": []
   },
   "outputs": [
    {
     "name": "stdout",
     "output_type": "stream",
     "text": [
      "trainee\n",
      "trainer\n",
      "trainee\n",
      "trainer\n",
      "trainee\n",
      "trainee\n",
      "trainee\n",
      "trainee\n",
      "trainee\n"
     ]
    }
   ],
   "source": [
    "for role in part_dic.values():\n",
    "    print(role)"
   ]
  },
  {
   "cell_type": "code",
   "execution_count": 85,
   "id": "7b1da399-fa42-457d-9f7a-3dfb743e457e",
   "metadata": {
    "tags": []
   },
   "outputs": [
    {
     "name": "stdout",
     "output_type": "stream",
     "text": [
      "Aleema\n",
      "Gennaro\n",
      "Muyang\n",
      "Oliver\n",
      "Sinibaldo\n",
      "Yao\n",
      "Yi\n"
     ]
    }
   ],
   "source": [
    "for name, role in part_dic.items():\n",
    "    if role == 'trainee':\n",
    "        print(name)"
   ]
  },
  {
   "cell_type": "code",
   "execution_count": 87,
   "id": "d3d52a34-3279-4f9b-8cc3-8bbc3d4be449",
   "metadata": {
    "tags": []
   },
   "outputs": [
    {
     "name": "stdout",
     "output_type": "stream",
     "text": [
      "Yao\n",
      "Kevin\n",
      "Muyang\n",
      "Sinibaldo\n",
      "Yi\n",
      "David\n",
      "Oliver\n",
      "Gennaro\n",
      "Aleema\n"
     ]
    }
   ],
   "source": [
    "import random\n",
    "def random_name_generator(participants_list):\n",
    "    random.shuffle(participants_list)\n",
    "    for name in participants_list:\n",
    "        print(name)\n",
    "random_name_generator(participants_list)"
   ]
  },
  {
   "cell_type": "code",
   "execution_count": 88,
   "id": "2887508b-b6a2-44dc-b828-b5986d307e36",
   "metadata": {
    "tags": []
   },
   "outputs": [
    {
     "name": "stdout",
     "output_type": "stream",
     "text": [
      "Sinibaldo\n",
      "David\n",
      "Kevin\n",
      "Oliver\n",
      "Aleema\n",
      "Gennaro\n",
      "Yao\n",
      "Muyang\n",
      "Yi\n"
     ]
    }
   ],
   "source": [
    "import random\n",
    "def random_name_generator(participants_list):\n",
    "    random.shuffle(participants_list)\n",
    "    for name in participants_list:\n",
    "        print(name)\n",
    "random_name_generator(participants_list)\n"
   ]
  },
  {
   "cell_type": "code",
   "execution_count": null,
   "id": "ada2401a-dd2b-4df6-ae31-7d8e2b492ffa",
   "metadata": {},
   "outputs": [],
   "source": []
  }
 ],
 "metadata": {
  "kernelspec": {
   "display_name": "Python 3 (ipykernel)",
   "language": "python",
   "name": "python3"
  },
  "language_info": {
   "codemirror_mode": {
    "name": "ipython",
    "version": 3
   },
   "file_extension": ".py",
   "mimetype": "text/x-python",
   "name": "python",
   "nbconvert_exporter": "python",
   "pygments_lexer": "ipython3",
   "version": "3.11.3"
  }
 },
 "nbformat": 4,
 "nbformat_minor": 5
}
